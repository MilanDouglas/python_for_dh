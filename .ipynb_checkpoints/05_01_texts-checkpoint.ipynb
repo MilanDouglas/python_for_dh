{
 "cells": [
  {
   "cell_type": "markdown",
   "id": "described-investor",
   "metadata": {},
   "source": [
    "# <center>Working with Textual Data</center>"
   ]
  },
  {
   "cell_type": "markdown",
   "id": "closed-sheet",
   "metadata": {},
   "source": [
    "<center>Dr. W.J.B. Mattingly</center>\n",
    "\n",
    "<center>Smithsonian Data Science Lab and United States Holocaust Memorial Museum</center>\n",
    "\n",
    "<center>January 2022</center>"
   ]
  },
  {
   "cell_type": "markdown",
   "id": "narrative-lover",
   "metadata": {},
   "source": [
    "## Covered in this Chapter"
   ]
  },
  {
   "cell_type": "markdown",
   "id": "duplicate-rescue",
   "metadata": {},
   "source": [
    "1) <br>\n",
    "2) <br>\n",
    "3) <br>"
   ]
  },
  {
   "cell_type": "markdown",
   "id": "polyphonic-currency",
   "metadata": {},
   "source": [
    "## Introduction"
   ]
  },
  {
   "cell_type": "markdown",
   "id": "western-sailing",
   "metadata": {},
   "source": [
    "Up until now, we have strictly worked with data that we have produced within our own code. Rarely will you ever copy-and-paste data into a Python script. Instead, you will need to interact with external data. Further, you will often need to save data in some way. This chapter is the first of two that walk you through how to interact with external data. We will be working with textual data in this chapter, while in the following chapter we will work with JSON, or JavaScript Object Notation data. In Part 07, Chapter 02, we will work with tabular data."
   ]
  },
  {
   "cell_type": "markdown",
   "id": "damaged-ireland",
   "metadata": {},
   "source": [
    "## The With Operator"
   ]
  },
  {
   "cell_type": "code",
   "execution_count": 3,
   "id": "documented-trademark",
   "metadata": {},
   "outputs": [
    {
     "name": "stdout",
     "output_type": "stream",
     "text": [
      "This is a sample of a text\n",
      "This is another line of the same sample text\n",
      "This is a third line.\n"
     ]
    }
   ],
   "source": [
    "with open ('data/sample.txt', \"r\") as f:\n",
    "    data = f.read()\n",
    "print (data)"
   ]
  },
  {
   "cell_type": "markdown",
   "id": "informational-thompson",
   "metadata": {},
   "source": []
  },
  {
   "cell_type": "code",
   "execution_count": 4,
   "id": "canadian-scanning",
   "metadata": {},
   "outputs": [
    {
     "name": "stdout",
     "output_type": "stream",
     "text": [
      "['This is a sample of a text', 'This is another line of the same sample text', 'This is a third line.']\n"
     ]
    }
   ],
   "source": [
    "print (data.splitlines())"
   ]
  },
  {
   "cell_type": "markdown",
   "id": "roman-sally",
   "metadata": {},
   "source": []
  },
  {
   "cell_type": "markdown",
   "id": "responsible-queensland",
   "metadata": {},
   "source": []
  },
  {
   "cell_type": "code",
   "execution_count": 5,
   "id": "neural-spyware",
   "metadata": {},
   "outputs": [],
   "source": [
    "new_string = \"This is a new string.\"\n",
    "with open (\"data/sample2.txt\", \"w\") as f:\n",
    "    f.write(new_string)"
   ]
  },
  {
   "cell_type": "markdown",
   "id": "noted-maximum",
   "metadata": {},
   "source": []
  },
  {
   "cell_type": "code",
   "execution_count": null,
   "id": "pregnant-chaos",
   "metadata": {},
   "outputs": [],
   "source": []
  },
  {
   "cell_type": "markdown",
   "id": "senior-hungarian",
   "metadata": {},
   "source": []
  },
  {
   "cell_type": "code",
   "execution_count": null,
   "id": "smoking-junior",
   "metadata": {},
   "outputs": [],
   "source": []
  },
  {
   "cell_type": "code",
   "execution_count": null,
   "id": "downtown-hindu",
   "metadata": {},
   "outputs": [],
   "source": []
  },
  {
   "cell_type": "code",
   "execution_count": null,
   "id": "comparative-trout",
   "metadata": {},
   "outputs": [],
   "source": []
  }
 ],
 "metadata": {
  "kernelspec": {
   "display_name": "Python 3",
   "language": "python",
   "name": "python3"
  },
  "language_info": {
   "codemirror_mode": {
    "name": "ipython",
    "version": 3
   },
   "file_extension": ".py",
   "mimetype": "text/x-python",
   "name": "python",
   "nbconvert_exporter": "python",
   "pygments_lexer": "ipython3",
   "version": "3.9.2"
  }
 },
 "nbformat": 4,
 "nbformat_minor": 5
}
